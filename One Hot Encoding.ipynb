{
 "cells": [
  {
   "cell_type": "code",
   "execution_count": 2,
   "id": "16459ad5",
   "metadata": {},
   "outputs": [
    {
     "data": {
      "text/plain": [
       "0      pass\n",
       "1      fail\n",
       "2      pass\n",
       "3      pass\n",
       "4    absent\n",
       "5      fail\n",
       "6      pass\n",
       "7      fail\n",
       "8    absent\n",
       "9      pass\n",
       "Name: result, dtype: object"
      ]
     },
     "execution_count": 2,
     "metadata": {},
     "output_type": "execute_result"
    }
   ],
   "source": [
    "import pandas as pd\n",
    "data=pd.read_csv(\"student.csv\")\n",
    "data['result']"
   ]
  },
  {
   "cell_type": "code",
   "execution_count": 3,
   "id": "2da8e75b",
   "metadata": {},
   "outputs": [],
   "source": [
    "result_category=data['result']"
   ]
  },
  {
   "cell_type": "code",
   "execution_count": 4,
   "id": "8aa9f1da",
   "metadata": {},
   "outputs": [
    {
     "data": {
      "text/plain": [
       "0      pass\n",
       "1      fail\n",
       "2      pass\n",
       "3      pass\n",
       "4    absent\n",
       "5      fail\n",
       "6      pass\n",
       "7      fail\n",
       "8    absent\n",
       "9      pass\n",
       "Name: result, dtype: object"
      ]
     },
     "execution_count": 4,
     "metadata": {},
     "output_type": "execute_result"
    }
   ],
   "source": [
    "result_category"
   ]
  },
  {
   "cell_type": "code",
   "execution_count": 6,
   "id": "692d5e53",
   "metadata": {},
   "outputs": [],
   "source": [
    "from sklearn.preprocessing import LabelEncoder"
   ]
  },
  {
   "cell_type": "code",
   "execution_count": 7,
   "id": "89f61ca8",
   "metadata": {},
   "outputs": [],
   "source": [
    "obj=LabelEncoder()"
   ]
  },
  {
   "cell_type": "code",
   "execution_count": 8,
   "id": "049b9138",
   "metadata": {},
   "outputs": [],
   "source": [
    " result=obj.fit_transform(result_category)"
   ]
  },
  {
   "cell_type": "code",
   "execution_count": 9,
   "id": "76b83d1b",
   "metadata": {},
   "outputs": [
    {
     "data": {
      "text/plain": [
       "array([2, 1, 2, 2, 0, 1, 2, 1, 0, 2])"
      ]
     },
     "execution_count": 9,
     "metadata": {},
     "output_type": "execute_result"
    }
   ],
   "source": [
    "result"
   ]
  },
  {
   "cell_type": "code",
   "execution_count": null,
   "id": "0970e242",
   "metadata": {},
   "outputs": [],
   "source": []
  },
  {
   "cell_type": "code",
   "execution_count": 10,
   "id": "0c938a6c",
   "metadata": {},
   "outputs": [],
   "source": [
    "from sklearn.preprocessing import LabelBinarizer"
   ]
  },
  {
   "cell_type": "code",
   "execution_count": 11,
   "id": "6f2105ad",
   "metadata": {},
   "outputs": [],
   "source": [
    "obj=LabelBinarizer()"
   ]
  },
  {
   "cell_type": "code",
   "execution_count": 12,
   "id": "0dae62e5",
   "metadata": {},
   "outputs": [],
   "source": [
    "result=obj.fit_transform(result_category)"
   ]
  },
  {
   "cell_type": "code",
   "execution_count": 13,
   "id": "40e5b217",
   "metadata": {},
   "outputs": [
    {
     "data": {
      "text/plain": [
       "array([[0, 0, 1],\n",
       "       [0, 1, 0],\n",
       "       [0, 0, 1],\n",
       "       [0, 0, 1],\n",
       "       [1, 0, 0],\n",
       "       [0, 1, 0],\n",
       "       [0, 0, 1],\n",
       "       [0, 1, 0],\n",
       "       [1, 0, 0],\n",
       "       [0, 0, 1]])"
      ]
     },
     "execution_count": 13,
     "metadata": {},
     "output_type": "execute_result"
    }
   ],
   "source": [
    "result"
   ]
  },
  {
   "cell_type": "code",
   "execution_count": 14,
   "id": "d07699f7",
   "metadata": {},
   "outputs": [
    {
     "data": {
      "text/plain": [
       "array(['absent', 'fail', 'pass'], dtype='<U6')"
      ]
     },
     "execution_count": 14,
     "metadata": {},
     "output_type": "execute_result"
    }
   ],
   "source": [
    "obj.classes_"
   ]
  },
  {
   "cell_type": "code",
   "execution_count": null,
   "id": "faa3ca34",
   "metadata": {},
   "outputs": [],
   "source": []
  }
 ],
 "metadata": {
  "kernelspec": {
   "display_name": "Python 3 (ipykernel)",
   "language": "python",
   "name": "python3"
  },
  "language_info": {
   "codemirror_mode": {
    "name": "ipython",
    "version": 3
   },
   "file_extension": ".py",
   "mimetype": "text/x-python",
   "name": "python",
   "nbconvert_exporter": "python",
   "pygments_lexer": "ipython3",
   "version": "3.10.9"
  }
 },
 "nbformat": 4,
 "nbformat_minor": 5
}
